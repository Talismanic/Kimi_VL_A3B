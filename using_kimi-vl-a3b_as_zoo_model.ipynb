{
 "cells": [
  {
   "cell_type": "markdown",
   "metadata": {},
   "source": [
    "# How to use the Kimi-VL-A3B Model"
   ]
  },
  {
   "cell_type": "code",
   "execution_count": null,
   "metadata": {},
   "outputs": [],
   "source": [
    "import fiftyone as fo\n",
    "import fiftyone.zoo as foz\n",
    "from fiftyone.utils import huggingface as fouh\n",
    "\n",
    "dataset = fouh.load_from_hub(\n",
    "    \"Voxel51/ScreenSpot\", \n",
    "    max_samples=5,\n",
    "    overwrite=True)"
   ]
  },
  {
   "cell_type": "code",
   "execution_count": null,
   "metadata": {},
   "outputs": [],
   "source": [
    "dataset"
   ]
  },
  {
   "cell_type": "code",
   "execution_count": null,
   "metadata": {},
   "outputs": [],
   "source": [
    "from PIL import Image\n",
    "\n",
    "Image.open(dataset.first().filepath)"
   ]
  },
  {
   "cell_type": "markdown",
   "metadata": {},
   "source": [
    "# Setup Zoo Model"
   ]
  },
  {
   "cell_type": "code",
   "execution_count": null,
   "metadata": {},
   "outputs": [],
   "source": [
    "foz.register_zoo_model_source(\"https://github.com/harpreetsahota204/Kimi_VL_A3B\", overwrite=True)"
   ]
  },
  {
   "cell_type": "code",
   "execution_count": null,
   "metadata": {},
   "outputs": [],
   "source": [
    "foz.download_zoo_model(\n",
    "    \"https://github.com/harpreetsahota204/Kimi_VL_A3B\",\n",
    "    model_name=\"moonshotai/Kimi-VL-A3B-Instruct\", #can also choose moonshotai/Kimi-VL-A3B-Thinking \n",
    ")"
   ]
  },
  {
   "cell_type": "code",
   "execution_count": null,
   "metadata": {},
   "outputs": [],
   "source": [
    "model = foz.load_zoo_model(\"moonshotai/Kimi-VL-A3B-Instruct\")"
   ]
  },
  {
   "cell_type": "markdown",
   "metadata": {},
   "source": [
    "# VQA"
   ]
  },
  {
   "cell_type": "code",
   "execution_count": null,
   "metadata": {},
   "outputs": [],
   "source": [
    "model.operation=\"vqa\"\n",
    "\n",
    "model.prompt=\"Describe this screenshot and what the user might be doing in it. Answer in a single sentence.\"\n",
    "\n",
    "dataset.apply_model(model, label_field=\"q_vqa\")\n",
    "\n",
    "dataset.first().q_vqa"
   ]
  },
  {
   "cell_type": "markdown",
   "metadata": {},
   "source": [
    "# Detection"
   ]
  },
  {
   "cell_type": "code",
   "execution_count": null,
   "metadata": {},
   "outputs": [],
   "source": [
    "model.operation=\"detect\"\n",
    "\n",
    "print(model.system_prompt)\n",
    "\n",
    "model.prompt=\"Locate the elements of this UI that a user can interact with.\"\n",
    "\n",
    "dataset.apply_model(model, label_field=\"qdets\")\n",
    "\n",
    "dataset.first().qdets"
   ]
  },
  {
   "cell_type": "markdown",
   "metadata": {},
   "source": [
    "# OCR with detection"
   ]
  },
  {
   "cell_type": "code",
   "execution_count": null,
   "metadata": {},
   "outputs": [],
   "source": [
    "model.operation=\"ocr\"\n",
    "\n",
    "model.prompt=\"Read all the text in the image.\"\n",
    "\n",
    "dataset.apply_model(model, label_field=\"q_ocr\")\n",
    "\n",
    "dataset.first().q_ocr"
   ]
  },
  {
   "cell_type": "markdown",
   "metadata": {},
   "source": [
    "# Pointing"
   ]
  },
  {
   "cell_type": "code",
   "execution_count": null,
   "metadata": {},
   "outputs": [],
   "source": [
    "model.operation=\"point\"\n",
    "\n",
    "model.prompt=\"Point to all the interactive elements in UI.\"\n",
    "\n",
    "print(model.system_prompt)\n",
    "\n",
    "dataset.apply_model(model, label_field=\"qpts\")"
   ]
  },
  {
   "cell_type": "code",
   "execution_count": null,
   "metadata": {},
   "outputs": [],
   "source": [
    "dataset.first().qpts"
   ]
  },
  {
   "cell_type": "markdown",
   "metadata": {},
   "source": [
    "# Classification"
   ]
  },
  {
   "cell_type": "code",
   "execution_count": null,
   "metadata": {},
   "outputs": [],
   "source": [
    "model.operation=\"classify\"\n",
    "\n",
    "model.prompt=\"List the type of operating system, open application, and what the user is working on as depicted in the UI.\"\n",
    "\n",
    "print(model.system_prompt)\n",
    "\n",
    "dataset.apply_model(model, label_field=\"q_cls\")"
   ]
  },
  {
   "cell_type": "code",
   "execution_count": null,
   "metadata": {},
   "outputs": [],
   "source": [
    "dataset.first().q_cls"
   ]
  },
  {
   "cell_type": "markdown",
   "metadata": {},
   "source": [
    "# Agentic"
   ]
  },
  {
   "cell_type": "code",
   "execution_count": null,
   "metadata": {},
   "outputs": [],
   "source": [
    "model.operation=\"agentic\"\n",
    "\n",
    "model.prompt=\"Write code to close application windows and quit the application.\"\n",
    "\n",
    "dataset.apply_model(model, label_field=\"q_agentic\")"
   ]
  },
  {
   "cell_type": "code",
   "execution_count": null,
   "metadata": {},
   "outputs": [],
   "source": [
    "dataset.first().q_agentic"
   ]
  },
  {
   "cell_type": "markdown",
   "metadata": {},
   "source": [
    "# Using a Sample field as an input"
   ]
  },
  {
   "cell_type": "code",
   "execution_count": null,
   "metadata": {},
   "outputs": [],
   "source": [
    "dataset.apply_model(model, label_field=\"instruction_field_agent\", prompt_field=\"instruction\")"
   ]
  },
  {
   "cell_type": "code",
   "execution_count": null,
   "metadata": {},
   "outputs": [],
   "source": [
    "dataset.first().instruction_field_agent"
   ]
  },
  {
   "cell_type": "code",
   "execution_count": null,
   "metadata": {},
   "outputs": [],
   "source": [
    "fo.launch_app(dataset)"
   ]
  }
 ],
 "metadata": {
  "kernelspec": {
   "display_name": "fiftyone",
   "language": "python",
   "name": "python3"
  },
  "language_info": {
   "codemirror_mode": {
    "name": "ipython",
    "version": 3
   },
   "file_extension": ".py",
   "mimetype": "text/x-python",
   "name": "python",
   "nbconvert_exporter": "python",
   "pygments_lexer": "ipython3",
   "version": "3.11.0"
  }
 },
 "nbformat": 4,
 "nbformat_minor": 2
}
